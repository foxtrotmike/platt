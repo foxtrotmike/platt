{
  "nbformat": 4,
  "nbformat_minor": 0,
  "metadata": {
    "colab": {
      "name": "platt_example.ipynb",
      "provenance": [],
      "authorship_tag": "ABX9TyMIIDxV4nJ6Q9tmAun2EUIR",
      "include_colab_link": true
    },
    "kernelspec": {
      "name": "python3",
      "display_name": "Python 3"
    }
  },
  "cells": [
    {
      "cell_type": "markdown",
      "metadata": {
        "id": "view-in-github",
        "colab_type": "text"
      },
      "source": [
        "<a href=\"https://colab.research.google.com/github/foxtrotmike/platt/blob/master/platt_example.ipynb\" target=\"_parent\"><img src=\"https://colab.research.google.com/assets/colab-badge.svg\" alt=\"Open In Colab\"/></a>"
      ]
    },
    {
      "cell_type": "code",
      "metadata": {
        "id": "vg9Fu8Qpms3c",
        "colab_type": "code",
        "colab": {
          "base_uri": "https://localhost:8080/",
          "height": 145
        },
        "outputId": "e78fbf2b-bafa-433d-ef74-2f9f143af0ad"
      },
      "source": [
        "# -*- coding: utf-8 -*-\n",
        "\"\"\"\n",
        "Created on Mon Oct 24 19:24:42 2016\n",
        "This is a python implementation of Platt's normalization of classifier output scores to a probability value. It is an implementation of the Algorithm presented in:\n",
        "Platt, John C. “Probabilistic Outputs for Support Vector Machines and Comparisons to Regularized Likelihood Methods.” In Advances in Large Margin Classifiers, 61–74. MIT Press, 1999.\n",
        "URL: http://citeseer.ist.psu.edu/viewdoc/summary?doi=10.1.1.41.1639\n",
        "\n",
        "Often times, after training a classifier, the output scores of a classifier need to be mapped to a more interpretable value. Platt's normalization is a classical method of doing just that. It fits a sigmoidal function z = 1/(1+exp(A*v+B) to the output scores v from the classifier and targets. The coefficients of the sigmoidal function can then be used to transform the output of any output from the classifier to a pseudo-probability value.\n",
        "\n",
        "Implemented by: Dr. Fayyaz Minhas\n",
        "@author: afsar\n",
        "\"\"\"\n",
        "import numpy as np\n",
        "def mylog(v):\n",
        "    if v==0:\n",
        "        return -200\n",
        "    else: \n",
        "        return np.log(v)\n",
        "def sigmoid(v,A = 1, B = 6.6451537894926167):\n",
        "    return 1/(1+np.exp(v*A+B))\n",
        "    \n",
        "def plattFit(V,L):\n",
        "    \"\"\"\n",
        "    Fit the sigmoid to the classifier scores V and labels L  using the Platt Mehtod\n",
        "    Input:  V array-like of classifier output scores\n",
        "            L array like of classifier labels (+1/-1 pr +1/0)\n",
        "    Output: Coefficients A and B for the sigmoid function\n",
        "    \"\"\"\n",
        "    out = np.array(V)\n",
        "    L = np.array(L)\n",
        "    assert len(V)==len(L)\n",
        "    target = L==1\n",
        "    prior1 = np.float(np.sum(target))\n",
        "    prior0 = len(target)-prior1    \n",
        "    A = 0\n",
        "    B = np.log((prior0+1)/(prior1+1))\n",
        "    hiTarget = (prior1+1)/(prior1+2)\n",
        "    loTarget = 1/(prior0+2)\n",
        "    labda = 1e-3\n",
        "    olderr = 1e300\n",
        "    pp = np.ones(out.shape)*(prior1+1)/(prior0+prior1+2)\n",
        "    T = np.zeros(target.shape)\n",
        "    for it in range(1,100):\n",
        "        a = 0\n",
        "        b = 0\n",
        "        c = 0\n",
        "        d = 0\n",
        "        e = 0\n",
        "        for i in range(len(out)):\n",
        "            if target[i]:\n",
        "                t = hiTarget\n",
        "                T[i] = t\n",
        "            else:\n",
        "                t = loTarget\n",
        "                T[i] = t\n",
        "            d1 = pp[i]-t\n",
        "            d2 = pp[i]*(1-pp[i])\n",
        "            a+=out[i]*out[i]*d2\n",
        "            b+=d2\n",
        "            c+=out[i]*d2\n",
        "            d+=out[i]*d1\n",
        "            e+=d1\n",
        "        if (abs(d)<1e-9 and abs(e)<1e-9):\n",
        "            break\n",
        "        oldA = A\n",
        "        oldB = B\n",
        "        err = 0\n",
        "        count = 0\n",
        "        while 1:\n",
        "            det = (a+labda)*(b+labda)-c*c\n",
        "            if det == 0:\n",
        "                labda *= 10\n",
        "                continue\n",
        "            A = oldA+ ((b+labda)*d-c*e)/det\n",
        "            B = oldB+ ((a+labda)*e-c*d)/det\n",
        "            err = 0\n",
        "            for i in range(len(out)):            \n",
        "                p = sigmoid(out[i],A,B)\n",
        "                pp[i]=p\n",
        "                t = T[i]\n",
        "                err-=t*mylog(p)+(1-t)*mylog(1-p)\n",
        "            if err<olderr*(1+1e-7):\n",
        "                labda *= 0.1\n",
        "                break\n",
        "            labda*=10\n",
        "            if labda>1e6:\n",
        "                break\n",
        "            diff = err-olderr\n",
        "            scale = 0.5*(err+olderr+1)\n",
        "            if diff>-1e-3*scale and diff <1e-7*scale:\n",
        "                count+=1\n",
        "            else:\n",
        "                count = 0\n",
        "            olderr = err\n",
        "            if count == 3:\n",
        "                break\n",
        "    return A,B\n",
        "\n",
        "if __name__ == '__main__':\n",
        "\n",
        "    V = 3*(2*np.random.rand(100)-1) #classifier output raw scores\n",
        "    L = 2*((V+2*np.random.rand(len(V))-1)>0)-1 #Original labels\n",
        "    A,B = plattFit(V,L) #rescling-coefficients\n",
        "    print('A =',A,'B =',B)\n",
        "    pp = sigmoid(V,A,B)\n",
        "    from sklearn.metrics import roc_auc_score\n",
        "    print(\"Print Ranges:\")\n",
        "    \n",
        "    print(\"Original:\",np.min(V),np.max(V))\n",
        "    print(\"Rescaled:\",np.min(pp),np.max(pp))\n",
        "    print(\"Calculate AUC-ROC (should not change):\")\n",
        "    print(roc_auc_score(L,pp))\n",
        "    print(roc_auc_score(L,V))\n"
      ],
      "execution_count": 15,
      "outputs": [
        {
          "output_type": "stream",
          "text": [
            "A = -2.297775130487822 B = 0.5173843127058958\n",
            "Print Ranges:\n",
            "Original: -2.9919524275442457 2.95496529862291\n",
            "Rescaled: 0.0006156487115103366 0.9981159795707811\n",
            "Calculate AUC-ROC (should not change):\n",
            "0.9778582930756843\n",
            "0.9778582930756843\n"
          ],
          "name": "stdout"
        }
      ]
    },
    {
      "cell_type": "code",
      "metadata": {
        "id": "PJCyfSDNnUrR",
        "colab_type": "code",
        "colab": {}
      },
      "source": [
        ""
      ],
      "execution_count": 0,
      "outputs": []
    }
  ]
}